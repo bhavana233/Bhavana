{
 "cells": [
  {
   "cell_type": "code",
   "execution_count": 8,
   "metadata": {},
   "outputs": [
    {
     "name": "stdout",
     "output_type": "stream",
     "text": [
      "Collecting os-sys\n",
      "  Using cached os_sys-2.1.4-py3-none-any.whl (15.6 MB)\n",
      "Collecting pyyaml<5.2,>=5.1\n",
      "  Using cached PyYAML-5.1.2-cp37-cp37m-win_amd64.whl (215 kB)\n",
      "Requirement already satisfied: Django in c:\\users\\lenovo\\.conda\\envs\\tensorflow\\lib\\site-packages (from os-sys) (3.0.8)\n",
      "Requirement already satisfied: Send2Trash in c:\\users\\lenovo\\.conda\\envs\\tensorflow\\lib\\site-packages (from os-sys) (1.5.0)\n",
      "Requirement already satisfied: PyInstaller in c:\\users\\lenovo\\.conda\\envs\\tensorflow\\lib\\site-packages (from os-sys) (3.6)\n",
      "Requirement already satisfied: tqdm in c:\\users\\lenovo\\.conda\\envs\\tensorflow\\lib\\site-packages (from os-sys) (4.48.0)\n",
      "Requirement already satisfied: six in c:\\users\\lenovo\\.conda\\envs\\tensorflow\\lib\\site-packages (from os-sys) (1.15.0)\n",
      "Requirement already satisfied: extract-zip in c:\\users\\lenovo\\.conda\\envs\\tensorflow\\lib\\site-packages (from os-sys) (1.0.0)\n",
      "Requirement already satisfied: requests in c:\\users\\lenovo\\.conda\\envs\\tensorflow\\lib\\site-packages (from os-sys) (2.24.0)\n",
      "Processing c:\\users\\lenovo\\appdata\\local\\pip\\cache\\wheels\\45\\6c\\46\\a1865e7ba706b3817f5d1b2ff7ce8996aabdd0d03d47ba0266\\nltk-3.5-py3-none-any.whl\n",
      "Requirement already satisfied: auto-py-to-exe in c:\\users\\lenovo\\.conda\\envs\\tensorflow\\lib\\site-packages (from os-sys) (2.7.5)\n",
      "Requirement already satisfied: pynput in c:\\users\\lenovo\\.conda\\envs\\tensorflow\\lib\\site-packages (from os-sys) (1.6.8)\n",
      "Requirement already satisfied: wmi in c:\\users\\lenovo\\.conda\\envs\\tensorflow\\lib\\site-packages (from os-sys) (1.5.1)\n",
      "Requirement already satisfied: pandas in c:\\users\\lenovo\\.conda\\envs\\tensorflow\\lib\\site-packages (from os-sys) (1.0.5)\n",
      "Requirement already satisfied: matplotlib in c:\\users\\lenovo\\.conda\\envs\\tensorflow\\lib\\site-packages (from os-sys) (3.3.0)\n",
      "Requirement already satisfied: progress in c:\\users\\lenovo\\.conda\\envs\\tensorflow\\lib\\site-packages (from os-sys) (1.5)\n",
      "Requirement already satisfied: selenium in c:\\users\\lenovo\\.conda\\envs\\tensorflow\\lib\\site-packages (from os-sys) (3.141.0)\n",
      "Requirement already satisfied: python-dateutil<2.8,>=2.7 in c:\\users\\lenovo\\.conda\\envs\\tensorflow\\lib\\site-packages (from os-sys) (2.7.5)\n",
      "Requirement already satisfied: progressbar in c:\\users\\lenovo\\.conda\\envs\\tensorflow\\lib\\site-packages (from os-sys) (2.5)\n",
      "Requirement already satisfied: text-editor in c:\\users\\lenovo\\.conda\\envs\\tensorflow\\lib\\site-packages (from os-sys) (1.0.5)\n",
      "Requirement already satisfied: pytz in c:\\users\\lenovo\\.conda\\envs\\tensorflow\\lib\\site-packages (from os-sys) (2020.1)\n",
      "Requirement already satisfied: jupyter in c:\\users\\lenovo\\.conda\\envs\\tensorflow\\lib\\site-packages (from os-sys) (1.0.0)\n",
      "Requirement already satisfied: sqlparse in c:\\users\\lenovo\\.conda\\envs\\tensorflow\\lib\\site-packages (from os-sys) (0.3.1)\n",
      "Requirement already satisfied: geocoder in c:\\users\\lenovo\\.conda\\envs\\tensorflow\\lib\\site-packages (from os-sys) (1.38.1)\n",
      "Requirement already satisfied: tornado in c:\\users\\lenovo\\.conda\\envs\\tensorflow\\lib\\site-packages (from os-sys) (6.0.4)\n",
      "Requirement already satisfied: tuspy in c:\\users\\lenovo\\.conda\\envs\\tensorflow\\lib\\site-packages (from os-sys) (0.2.4)\n",
      "Requirement already satisfied: cefpython3 in c:\\users\\lenovo\\.conda\\envs\\tensorflow\\lib\\site-packages (from os-sys) (66.0)\n",
      "Requirement already satisfied: beautifulsoup4 in c:\\users\\lenovo\\.conda\\envs\\tensorflow\\lib\\site-packages (from os-sys) (4.9.1)\n",
      "Requirement already satisfied: pint>=0.8.1 in c:\\users\\lenovo\\.conda\\envs\\tensorflow\\lib\\site-packages (from os-sys) (0.14)\n",
      "Requirement already satisfied: pyvalid in c:\\users\\lenovo\\.conda\\envs\\tensorflow\\lib\\site-packages (from os-sys) (0.9.2)\n",
      "Collecting sqlalchemy<1.4,>=1.3\n",
      "  Using cached SQLAlchemy-1.3.18-cp37-cp37m-win_amd64.whl (1.2 MB)\n",
      "Requirement already satisfied: pygubu in c:\\users\\lenovo\\.conda\\envs\\tensorflow\\lib\\site-packages (from os-sys) (0.10.2)\n",
      "Requirement already satisfied: psutil in c:\\users\\lenovo\\.conda\\envs\\tensorflow\\lib\\site-packages (from os-sys) (5.7.2)\n",
      "Requirement already satisfied: numpy in c:\\users\\lenovo\\.conda\\envs\\tensorflow\\lib\\site-packages (from os-sys) (1.18.5)\n",
      "Collecting spacy==2.2.0\n",
      "  Using cached spacy-2.2.0-cp37-cp37m-win_amd64.whl (9.3 MB)\n",
      "Requirement already satisfied: pyspeedtest in c:\\users\\lenovo\\.conda\\envs\\tensorflow\\lib\\site-packages (from os-sys) (1.2.7)\n",
      "Requirement already satisfied: requests-download in c:\\users\\lenovo\\.conda\\envs\\tensorflow\\lib\\site-packages (from os-sys) (0.1.2)\n",
      "Requirement already satisfied: pypiwin32 in c:\\users\\lenovo\\.conda\\envs\\tensorflow\\lib\\site-packages (from os-sys) (223)\n",
      "Requirement already satisfied: pythonGui in c:\\users\\lenovo\\.conda\\envs\\tensorflow\\lib\\site-packages (from os-sys) (0.0.2)\n",
      "Requirement already satisfied: pytest in c:\\users\\lenovo\\.conda\\envs\\tensorflow\\lib\\site-packages (from os-sys) (5.4.3)\n",
      "Collecting os-sys-php\n",
      "  Using cached os_sys_php-2019.10.13-py3-none-any.whl (38.6 MB)\n",
      "Processing c:\\users\\lenovo\\appdata\\local\\pip\\cache\\wheels\\62\\be\\3a\\abe5eea7cf118ab19214229d2ae5a8bb2b85202016bc3ee1f3\\wifi-0.3.8-py3-none-any.whl\n",
      "Requirement already satisfied: mysql-connector in c:\\users\\lenovo\\.conda\\envs\\tensorflow\\lib\\site-packages (from os-sys) (2.2.9)\n",
      "Collecting mathparse<0.2,>=0.1\n",
      "  Using cached mathparse-0.1.2-py3-none-any.whl (7.2 kB)\n",
      "Collecting netifaces\n",
      "  Using cached netifaces-0.10.9-cp37-cp37m-win_amd64.whl (16 kB)\n",
      "Requirement already satisfied: Eel in c:\\users\\lenovo\\.conda\\envs\\tensorflow\\lib\\site-packages (from os-sys) (0.13.2)\n",
      "Requirement already satisfied: asgiref~=3.2 in c:\\users\\lenovo\\.conda\\envs\\tensorflow\\lib\\site-packages (from Django->os-sys) (3.2.10)\n",
      "Requirement already satisfied: pywin32-ctypes>=0.2.0 in c:\\users\\lenovo\\.conda\\envs\\tensorflow\\lib\\site-packages (from PyInstaller->os-sys) (0.2.0)\n",
      "Requirement already satisfied: setuptools in c:\\users\\lenovo\\.conda\\envs\\tensorflow\\lib\\site-packages (from PyInstaller->os-sys) (49.2.0.post20200714)\n",
      "Requirement already satisfied: pefile>=2017.8.1 in c:\\users\\lenovo\\.conda\\envs\\tensorflow\\lib\\site-packages (from PyInstaller->os-sys) (2019.4.18)\n",
      "Requirement already satisfied: altgraph in c:\\users\\lenovo\\.conda\\envs\\tensorflow\\lib\\site-packages (from PyInstaller->os-sys) (0.17)\n",
      "Requirement already satisfied: idna<3,>=2.5 in c:\\users\\lenovo\\.conda\\envs\\tensorflow\\lib\\site-packages (from requests->os-sys) (2.10)\n",
      "Requirement already satisfied: urllib3!=1.25.0,!=1.25.1,<1.26,>=1.21.1 in c:\\users\\lenovo\\.conda\\envs\\tensorflow\\lib\\site-packages (from requests->os-sys) (1.25.9)\n",
      "Requirement already satisfied: chardet<4,>=3.0.2 in c:\\users\\lenovo\\.conda\\envs\\tensorflow\\lib\\site-packages (from requests->os-sys) (3.0.4)\n",
      "Requirement already satisfied: certifi>=2017.4.17 in c:\\users\\lenovo\\.conda\\envs\\tensorflow\\lib\\site-packages (from requests->os-sys) (2020.6.20)\n",
      "Collecting regex\n",
      "  Using cached regex-2020.7.14-cp37-cp37m-win_amd64.whl (268 kB)\n",
      "Requirement already satisfied: joblib in c:\\users\\lenovo\\.conda\\envs\\tensorflow\\lib\\site-packages (from nltk<4.0,>=3.2->os-sys) (0.16.0)\n",
      "Requirement already satisfied: click in c:\\users\\lenovo\\.conda\\envs\\tensorflow\\lib\\site-packages (from nltk<4.0,>=3.2->os-sys) (7.1.2)\n",
      "Requirement already satisfied: pywin32 in c:\\users\\lenovo\\.conda\\envs\\tensorflow\\lib\\site-packages (from wmi->os-sys) (227)\n",
      "Requirement already satisfied: pillow>=6.2.0 in c:\\users\\lenovo\\.conda\\envs\\tensorflow\\lib\\site-packages (from matplotlib->os-sys) (7.2.0)\n",
      "Requirement already satisfied: kiwisolver>=1.0.1 in c:\\users\\lenovo\\.conda\\envs\\tensorflow\\lib\\site-packages (from matplotlib->os-sys) (1.2.0)\n",
      "Requirement already satisfied: cycler>=0.10 in c:\\users\\lenovo\\.conda\\envs\\tensorflow\\lib\\site-packages (from matplotlib->os-sys) (0.10.0)\n",
      "Requirement already satisfied: pyparsing!=2.0.4,!=2.1.2,!=2.1.6,>=2.0.3 in c:\\users\\lenovo\\.conda\\envs\\tensorflow\\lib\\site-packages (from matplotlib->os-sys) (2.4.7)\n",
      "Requirement already satisfied: jupyter-console in c:\\users\\lenovo\\.conda\\envs\\tensorflow\\lib\\site-packages (from jupyter->os-sys) (6.1.0)\n",
      "Requirement already satisfied: ipywidgets in c:\\users\\lenovo\\.conda\\envs\\tensorflow\\lib\\site-packages (from jupyter->os-sys) (7.5.1)\n",
      "Requirement already satisfied: ipykernel in c:\\users\\lenovo\\.conda\\envs\\tensorflow\\lib\\site-packages (from jupyter->os-sys) (5.3.2)\n",
      "Requirement already satisfied: nbconvert in c:\\users\\lenovo\\.conda\\envs\\tensorflow\\lib\\site-packages (from jupyter->os-sys) (5.6.1)\n",
      "Requirement already satisfied: notebook in c:\\users\\lenovo\\.conda\\envs\\tensorflow\\lib\\site-packages (from jupyter->os-sys) (6.0.3)\n",
      "Requirement already satisfied: qtconsole in c:\\users\\lenovo\\.conda\\envs\\tensorflow\\lib\\site-packages (from jupyter->os-sys) (4.7.5)\n",
      "Requirement already satisfied: ratelim in c:\\users\\lenovo\\.conda\\envs\\tensorflow\\lib\\site-packages (from geocoder->os-sys) (0.1.6)\n",
      "Requirement already satisfied: future in c:\\users\\lenovo\\.conda\\envs\\tensorflow\\lib\\site-packages (from geocoder->os-sys) (0.18.2)\n",
      "Requirement already satisfied: tinydb>=3.5.0 in c:\\users\\lenovo\\.conda\\envs\\tensorflow\\lib\\site-packages (from tuspy->os-sys) (4.1.1)\n",
      "Requirement already satisfied: soupsieve>1.2 in c:\\users\\lenovo\\.conda\\envs\\tensorflow\\lib\\site-packages (from beautifulsoup4->os-sys) (2.0.1)\n",
      "Requirement already satisfied: importlib-metadata; python_version < \"3.8\" in c:\\users\\lenovo\\.conda\\envs\\tensorflow\\lib\\site-packages (from pint>=0.8.1->os-sys) (1.7.0)\n",
      "Requirement already satisfied: packaging in c:\\users\\lenovo\\.conda\\envs\\tensorflow\\lib\\site-packages (from pint>=0.8.1->os-sys) (20.4)\n",
      "Collecting thinc<7.2.0,>=7.1.1\n",
      "  Using cached thinc-7.1.1-cp37-cp37m-win_amd64.whl (1.9 MB)\n",
      "Processing c:\\users\\lenovo\\appdata\\local\\pip\\cache\\wheels\\dc\\5e\\d4\\727b6213e9ebec502ff1bf5998f4a83fef87c3aace8a492243\\wasabi-0.7.1-py3-none-any.whl\n",
      "Collecting cymem<2.1.0,>=2.0.2\n",
      "  Using cached cymem-2.0.3-cp37-cp37m-win_amd64.whl (32 kB)\n",
      "Collecting srsly<1.1.0,>=0.1.0\n",
      "  Using cached srsly-1.0.2-cp37-cp37m-win_amd64.whl (179 kB)\n",
      "Collecting plac<1.0.0,>=0.9.6Note: you may need to restart the kernel to use updated packages.\n"
     ]
    },
    {
     "name": "stderr",
     "output_type": "stream",
     "text": [
      "ERROR: Cannot uninstall 'PyYAML'. It is a distutils installed project and thus we cannot accurately determine which files belong to it which would lead to only a partial uninstall.\n"
     ]
    },
    {
     "name": "stdout",
     "output_type": "stream",
     "text": [
      "\n",
      "  Using cached plac-0.9.6-py2.py3-none-any.whl (20 kB)\n",
      "Collecting preshed<3.1.0,>=3.0.2\n",
      "  Using cached preshed-3.0.2-cp37-cp37m-win_amd64.whl (105 kB)\n",
      "Collecting blis<0.5.0,>=0.4.0\n",
      "  Using cached blis-0.4.1-cp37-cp37m-win_amd64.whl (5.0 MB)\n",
      "Collecting murmurhash<1.1.0,>=0.28.0\n",
      "  Using cached murmurhash-1.0.2-cp37-cp37m-win_amd64.whl (20 kB)\n",
      "Requirement already satisfied: colorama; sys_platform == \"win32\" in c:\\users\\lenovo\\.conda\\envs\\tensorflow\\lib\\site-packages (from pytest->os-sys) (0.4.3)\n",
      "Requirement already satisfied: wcwidth in c:\\users\\lenovo\\.conda\\envs\\tensorflow\\lib\\site-packages (from pytest->os-sys) (0.2.5)\n",
      "Requirement already satisfied: pluggy<1.0,>=0.12 in c:\\users\\lenovo\\.conda\\envs\\tensorflow\\lib\\site-packages (from pytest->os-sys) (0.13.1)\n",
      "Requirement already satisfied: py>=1.5.0 in c:\\users\\lenovo\\.conda\\envs\\tensorflow\\lib\\site-packages (from pytest->os-sys) (1.9.0)\n",
      "Requirement already satisfied: more-itertools>=4.0.0 in c:\\users\\lenovo\\.conda\\envs\\tensorflow\\lib\\site-packages (from pytest->os-sys) (8.4.0)\n",
      "Requirement already satisfied: atomicwrites>=1.0; sys_platform == \"win32\" in c:\\users\\lenovo\\.conda\\envs\\tensorflow\\lib\\site-packages (from pytest->os-sys) (1.4.0)\n",
      "Requirement already satisfied: attrs>=17.4.0 in c:\\users\\lenovo\\.conda\\envs\\tensorflow\\lib\\site-packages (from pytest->os-sys) (19.3.0)\n",
      "Processing c:\\users\\lenovo\\appdata\\local\\pip\\cache\\wheels\\49\\16\\ea\\daca297d70ee0782ac6e16e83b2c55b2ca42a2113750bc0489\\pbkdf2-1.3-py3-none-any.whl\n",
      "Requirement already satisfied: whichcraft in c:\\users\\lenovo\\.conda\\envs\\tensorflow\\lib\\site-packages (from Eel->os-sys) (0.6.1)\n",
      "Requirement already satisfied: bottle in c:\\users\\lenovo\\.conda\\envs\\tensorflow\\lib\\site-packages (from Eel->os-sys) (0.12.18)\n",
      "Requirement already satisfied: bottle-websocket in c:\\users\\lenovo\\.conda\\envs\\tensorflow\\lib\\site-packages (from Eel->os-sys) (0.2.9)\n",
      "Requirement already satisfied: pygments in c:\\users\\lenovo\\.conda\\envs\\tensorflow\\lib\\site-packages (from jupyter-console->jupyter->os-sys) (2.6.1)\n",
      "Requirement already satisfied: jupyter-client in c:\\users\\lenovo\\.conda\\envs\\tensorflow\\lib\\site-packages (from jupyter-console->jupyter->os-sys) (6.1.6)\n",
      "Requirement already satisfied: ipython in c:\\users\\lenovo\\.conda\\envs\\tensorflow\\lib\\site-packages (from jupyter-console->jupyter->os-sys) (7.16.1)\n",
      "Requirement already satisfied: prompt-toolkit!=3.0.0,!=3.0.1,<3.1.0,>=2.0.0 in c:\\users\\lenovo\\.conda\\envs\\tensorflow\\lib\\site-packages (from jupyter-console->jupyter->os-sys) (3.0.5)\n",
      "Requirement already satisfied: nbformat>=4.2.0 in c:\\users\\lenovo\\.conda\\envs\\tensorflow\\lib\\site-packages (from ipywidgets->jupyter->os-sys) (5.0.7)\n",
      "Requirement already satisfied: widgetsnbextension~=3.5.0 in c:\\users\\lenovo\\.conda\\envs\\tensorflow\\lib\\site-packages (from ipywidgets->jupyter->os-sys) (3.5.1)\n",
      "Requirement already satisfied: traitlets>=4.3.1 in c:\\users\\lenovo\\.conda\\envs\\tensorflow\\lib\\site-packages (from ipywidgets->jupyter->os-sys) (4.3.3)\n",
      "Requirement already satisfied: entrypoints>=0.2.2 in c:\\users\\lenovo\\.conda\\envs\\tensorflow\\lib\\site-packages (from nbconvert->jupyter->os-sys) (0.3)\n",
      "Requirement already satisfied: bleach in c:\\users\\lenovo\\.conda\\envs\\tensorflow\\lib\\site-packages (from nbconvert->jupyter->os-sys) (3.1.5)\n",
      "Requirement already satisfied: jinja2>=2.4 in c:\\users\\lenovo\\.conda\\envs\\tensorflow\\lib\\site-packages (from nbconvert->jupyter->os-sys) (2.11.2)\n",
      "Requirement already satisfied: testpath in c:\\users\\lenovo\\.conda\\envs\\tensorflow\\lib\\site-packages (from nbconvert->jupyter->os-sys) (0.4.4)\n",
      "Requirement already satisfied: mistune<2,>=0.8.1 in c:\\users\\lenovo\\.conda\\envs\\tensorflow\\lib\\site-packages (from nbconvert->jupyter->os-sys) (0.8.4)\n",
      "Requirement already satisfied: pandocfilters>=1.4.1 in c:\\users\\lenovo\\.conda\\envs\\tensorflow\\lib\\site-packages (from nbconvert->jupyter->os-sys) (1.4.2)\n",
      "Requirement already satisfied: defusedxml in c:\\users\\lenovo\\.conda\\envs\\tensorflow\\lib\\site-packages (from nbconvert->jupyter->os-sys) (0.6.0)\n",
      "Requirement already satisfied: jupyter-core in c:\\users\\lenovo\\.conda\\envs\\tensorflow\\lib\\site-packages (from nbconvert->jupyter->os-sys) (4.6.3)\n",
      "Requirement already satisfied: pyzmq>=17 in c:\\users\\lenovo\\.conda\\envs\\tensorflow\\lib\\site-packages (from notebook->jupyter->os-sys) (19.0.1)\n",
      "Requirement already satisfied: terminado>=0.8.1 in c:\\users\\lenovo\\.conda\\envs\\tensorflow\\lib\\site-packages (from notebook->jupyter->os-sys) (0.8.3)\n",
      "Requirement already satisfied: prometheus-client in c:\\users\\lenovo\\.conda\\envs\\tensorflow\\lib\\site-packages (from notebook->jupyter->os-sys) (0.8.0)\n",
      "Requirement already satisfied: ipython-genutils in c:\\users\\lenovo\\.conda\\envs\\tensorflow\\lib\\site-packages (from notebook->jupyter->os-sys) (0.2.0)\n",
      "Requirement already satisfied: qtpy in c:\\users\\lenovo\\.conda\\envs\\tensorflow\\lib\\site-packages (from qtconsole->jupyter->os-sys) (1.9.0)\n",
      "Requirement already satisfied: decorator in c:\\users\\lenovo\\.conda\\envs\\tensorflow\\lib\\site-packages (from ratelim->geocoder->os-sys) (4.4.2)\n",
      "Requirement already satisfied: zipp>=0.5 in c:\\users\\lenovo\\.conda\\envs\\tensorflow\\lib\\site-packages (from importlib-metadata; python_version < \"3.8\"->pint>=0.8.1->os-sys) (3.1.0)\n",
      "Requirement already satisfied: gevent-websocket in c:\\users\\lenovo\\.conda\\envs\\tensorflow\\lib\\site-packages (from bottle-websocket->Eel->os-sys) (0.10.1)\n",
      "Requirement already satisfied: pickleshare in c:\\users\\lenovo\\.conda\\envs\\tensorflow\\lib\\site-packages (from ipython->jupyter-console->jupyter->os-sys) (0.7.5)\n",
      "Requirement already satisfied: backcall in c:\\users\\lenovo\\.conda\\envs\\tensorflow\\lib\\site-packages (from ipython->jupyter-console->jupyter->os-sys) (0.2.0)\n",
      "Requirement already satisfied: jedi>=0.10 in c:\\users\\lenovo\\.conda\\envs\\tensorflow\\lib\\site-packages (from ipython->jupyter-console->jupyter->os-sys) (0.17.1)\n",
      "Requirement already satisfied: jsonschema!=2.5.0,>=2.4 in c:\\users\\lenovo\\.conda\\envs\\tensorflow\\lib\\site-packages (from nbformat>=4.2.0->ipywidgets->jupyter->os-sys) (3.2.0)\n",
      "Requirement already satisfied: webencodings in c:\\users\\lenovo\\.conda\\envs\\tensorflow\\lib\\site-packages (from bleach->nbconvert->jupyter->os-sys) (0.5.1)\n",
      "Requirement already satisfied: MarkupSafe>=0.23 in c:\\users\\lenovo\\.conda\\envs\\tensorflow\\lib\\site-packages (from jinja2>=2.4->nbconvert->jupyter->os-sys) (1.1.1)\n",
      "Requirement already satisfied: gevent in c:\\users\\lenovo\\.conda\\envs\\tensorflow\\lib\\site-packages (from gevent-websocket->bottle-websocket->Eel->os-sys) (20.6.2)\n",
      "Requirement already satisfied: parso<0.8.0,>=0.7.0 in c:\\users\\lenovo\\.conda\\envs\\tensorflow\\lib\\site-packages (from jedi>=0.10->ipython->jupyter-console->jupyter->os-sys) (0.7.0)\n",
      "Requirement already satisfied: pyrsistent>=0.14.0 in c:\\users\\lenovo\\.conda\\envs\\tensorflow\\lib\\site-packages (from jsonschema!=2.5.0,>=2.4->nbformat>=4.2.0->ipywidgets->jupyter->os-sys) (0.16.0)\n",
      "Requirement already satisfied: zope.interface in c:\\users\\lenovo\\.conda\\envs\\tensorflow\\lib\\site-packages (from gevent->gevent-websocket->bottle-websocket->Eel->os-sys) (5.1.0)\n",
      "Requirement already satisfied: greenlet>=0.4.16; platform_python_implementation == \"CPython\" in c:\\users\\lenovo\\.conda\\envs\\tensorflow\\lib\\site-packages (from gevent->gevent-websocket->bottle-websocket->Eel->os-sys) (0.4.16)\n",
      "Requirement already satisfied: cffi>=1.12.2; platform_python_implementation == \"CPython\" and sys_platform == \"win32\" in c:\\users\\lenovo\\.conda\\envs\\tensorflow\\lib\\site-packages (from gevent->gevent-websocket->bottle-websocket->Eel->os-sys) (1.14.0)\n",
      "Requirement already satisfied: zope.event in c:\\users\\lenovo\\.conda\\envs\\tensorflow\\lib\\site-packages (from gevent->gevent-websocket->bottle-websocket->Eel->os-sys) (4.4)\n",
      "Requirement already satisfied: pycparser in c:\\users\\lenovo\\.conda\\envs\\tensorflow\\lib\\site-packages (from cffi>=1.12.2; platform_python_implementation == \"CPython\" and sys_platform == \"win32\"->gevent->gevent-websocket->bottle-websocket->Eel->os-sys) (2.20)\n",
      "Installing collected packages: pyyaml, regex, nltk, sqlalchemy, cymem, wasabi, plac, srsly, blis, murmurhash, preshed, thinc, spacy, os-sys-php, pbkdf2, wifi, mathparse, netifaces, os-sys\n",
      "  Attempting uninstall: pyyaml\n",
      "    Found existing installation: PyYAML 5.3.1\n"
     ]
    }
   ],
   "source": [
    "pip install os-sys"
   ]
  },
  {
   "cell_type": "code",
   "execution_count": 9,
   "metadata": {},
   "outputs": [
    {
     "name": "stdout",
     "output_type": "stream",
     "text": [
      "Requirement already satisfied: opencv-python in c:\\users\\lenovo\\.conda\\envs\\tensorflow\\lib\\site-packages (4.3.0.36)\n",
      "Requirement already satisfied: numpy>=1.14.5 in c:\\users\\lenovo\\.conda\\envs\\tensorflow\\lib\\site-packages (from opencv-python) (1.18.5)\n",
      "Note: you may need to restart the kernel to use updated packages.\n"
     ]
    }
   ],
   "source": [
    "pip install opencv-python"
   ]
  },
  {
   "cell_type": "code",
   "execution_count": 10,
   "metadata": {},
   "outputs": [],
   "source": [
    "import os\n",
    "import cv2\n",
    "import numpy as np\n",
    "import pandas as pd "
   ]
  },
  {
   "cell_type": "code",
   "execution_count": 11,
   "metadata": {},
   "outputs": [
    {
     "name": "stdout",
     "output_type": "stream",
     "text": [
      "{'with mask': 0, 'without mask': 1}\n",
      "['with mask', 'without mask']\n",
      "[0, 1]\n"
     ]
    }
   ],
   "source": [
    "data_path='C:\\\\Users\\\\lenovo\\\\Dropbox\\\\My PC (LAPTOP-AH9L381P)\\\\Desktop\\\\resume\\\\imagedata'\n",
    "categories=os.listdir(data_path)\n",
    "labels=[i for i in range(len(categories))]\n",
    "\n",
    "label_dict=dict(zip(categories,labels)) \n",
    "\n",
    "print(label_dict)\n",
    "print(categories)\n",
    "print(labels)"
   ]
  },
  {
   "cell_type": "code",
   "execution_count": 12,
   "metadata": {},
   "outputs": [],
   "source": [
    "img_size=100\n",
    "data=[]\n",
    "target=[]\n",
    "\n",
    "\n",
    "for category in categories:\n",
    "    folder_path=os.path.join(data_path,category)\n",
    "    img_names=os.listdir(folder_path)\n",
    "        \n",
    "    for img_name in img_names:\n",
    "        img_path=os.path.join(folder_path,img_name)\n",
    "        img=cv2.imread(img_path)\n",
    "\n",
    "        try:\n",
    "            gray=cv2.cvtColor(img,cv2.COLOR_BGR2GRAY)           \n",
    "            resized=cv2.resize(gray,(img_size,img_size))\n",
    "            data.append(resized)\n",
    "            target.append(label_dict[category])\n",
    "    \n",
    "\n",
    "        except Exception as e:\n",
    "            print('Exception:',e)\n",
    "            "
   ]
  },
  {
   "cell_type": "code",
   "execution_count": 13,
   "metadata": {},
   "outputs": [
    {
     "name": "stderr",
     "output_type": "stream",
     "text": [
      "Using TensorFlow backend.\n"
     ]
    }
   ],
   "source": [
    "import numpy as np\n",
    "\n",
    "data=np.array(data)/255.0\n",
    "data=np.reshape(data,(data.shape[0],img_size,img_size,1))\n",
    "target=np.array(target)\n",
    "\n",
    "from keras.utils import np_utils\n",
    "\n",
    "new_target=np_utils.to_categorical(target)"
   ]
  },
  {
   "cell_type": "code",
   "execution_count": 14,
   "metadata": {},
   "outputs": [],
   "source": [
    "np.save('data',data)\n",
    "np.save('target',new_target)"
   ]
  },
  {
   "cell_type": "code",
   "execution_count": 15,
   "metadata": {},
   "outputs": [],
   "source": [
    "import numpy as np\n",
    "\n",
    "data=np.load('data.npy')\n",
    "target=np.load('target.npy')"
   ]
  },
  {
   "cell_type": "code",
   "execution_count": 16,
   "metadata": {},
   "outputs": [],
   "source": [
    "from keras.models import Sequential\n",
    "from keras.layers import Dense,Activation,Flatten,Dropout\n",
    "from keras.layers import Conv2D,MaxPooling2D\n",
    "from keras.callbacks import ModelCheckpoint\n",
    "\n",
    "model=Sequential()\n",
    "\n",
    "model.add(Conv2D(200,(3,3),input_shape=data.shape[1:]))\n",
    "model.add(Activation('relu'))\n",
    "model.add(MaxPooling2D(pool_size=(2,2)))\n",
    "\n",
    "model.add(Conv2D(100,(3,3)))\n",
    "model.add(Activation('relu'))\n",
    "model.add(MaxPooling2D(pool_size=(2,2)))\n",
    "\n",
    "model.add(Flatten())\n",
    "model.add(Dropout(0.5))\n",
    "model.add(Dense(50,activation='relu'))\n",
    "model.add(Dense(2,activation='softmax'))\n",
    "\n",
    "\n",
    "model.compile(loss='categorical_crossentropy',optimizer='adam',metrics=['accuracy'])"
   ]
  },
  {
   "cell_type": "code",
   "execution_count": 17,
   "metadata": {},
   "outputs": [
    {
     "name": "stdout",
     "output_type": "stream",
     "text": [
      "Requirement already satisfied: scikit-learn in c:\\users\\lenovo\\.conda\\envs\\tensorflow\\lib\\site-packages (0.23.1)Note: you may need to restart the kernel to use updated packages.\n",
      "\n",
      "Requirement already satisfied: numpy>=1.13.3 in c:\\users\\lenovo\\.conda\\envs\\tensorflow\\lib\\site-packages (from scikit-learn) (1.18.5)\n",
      "Requirement already satisfied: joblib>=0.11 in c:\\users\\lenovo\\.conda\\envs\\tensorflow\\lib\\site-packages (from scikit-learn) (0.16.0)\n",
      "Requirement already satisfied: threadpoolctl>=2.0.0 in c:\\users\\lenovo\\.conda\\envs\\tensorflow\\lib\\site-packages (from scikit-learn) (2.1.0)\n",
      "Requirement already satisfied: scipy>=0.19.1 in c:\\users\\lenovo\\.conda\\envs\\tensorflow\\lib\\site-packages (from scikit-learn) (1.5.0)\n"
     ]
    }
   ],
   "source": [
    "pip install scikit-learn"
   ]
  },
  {
   "cell_type": "code",
   "execution_count": 18,
   "metadata": {},
   "outputs": [],
   "source": [
    "from sklearn.model_selection import train_test_split\n",
    "\n",
    "train_data,test_data,train_target,test_target=train_test_split(data,target,test_size=0.1)"
   ]
  },
  {
   "cell_type": "code",
   "execution_count": 19,
   "metadata": {},
   "outputs": [
    {
     "name": "stdout",
     "output_type": "stream",
     "text": [
      "Train on 990 samples, validate on 248 samples\n",
      "Epoch 1/20\n",
      "990/990 [==============================] - 37s 37ms/step - loss: 0.6982 - accuracy: 0.5646 - val_loss: 0.5743 - val_accuracy: 0.6774\n",
      "Epoch 2/20\n",
      "990/990 [==============================] - 37s 37ms/step - loss: 0.5190 - accuracy: 0.7535 - val_loss: 0.4768 - val_accuracy: 0.7702\n",
      "Epoch 3/20\n",
      "990/990 [==============================] - 37s 38ms/step - loss: 0.3142 - accuracy: 0.8798 - val_loss: 0.2856 - val_accuracy: 0.8790\n",
      "Epoch 4/20\n",
      "990/990 [==============================] - 38s 38ms/step - loss: 0.2264 - accuracy: 0.9162 - val_loss: 0.3294 - val_accuracy: 0.8347\n",
      "Epoch 5/20\n",
      "990/990 [==============================] - 37s 38ms/step - loss: 0.1808 - accuracy: 0.9323 - val_loss: 0.2249 - val_accuracy: 0.9113\n",
      "Epoch 6/20\n",
      "990/990 [==============================] - 38s 39ms/step - loss: 0.1557 - accuracy: 0.9424 - val_loss: 0.1843 - val_accuracy: 0.9355\n",
      "Epoch 7/20\n",
      "990/990 [==============================] - 45s 45ms/step - loss: 0.1172 - accuracy: 0.9566 - val_loss: 0.1793 - val_accuracy: 0.9395\n",
      "Epoch 8/20\n",
      "990/990 [==============================] - 66s 66ms/step - loss: 0.0836 - accuracy: 0.9758 - val_loss: 0.1653 - val_accuracy: 0.9435\n",
      "Epoch 9/20\n",
      "990/990 [==============================] - 69s 70ms/step - loss: 0.0615 - accuracy: 0.9828 - val_loss: 0.1779 - val_accuracy: 0.9315\n",
      "Epoch 10/20\n",
      "990/990 [==============================] - 63s 64ms/step - loss: 0.0537 - accuracy: 0.9788 - val_loss: 0.1686 - val_accuracy: 0.9435\n",
      "Epoch 11/20\n",
      "990/990 [==============================] - 68s 68ms/step - loss: 0.0397 - accuracy: 0.9889 - val_loss: 0.2399 - val_accuracy: 0.9194\n",
      "Epoch 12/20\n",
      "990/990 [==============================] - 57s 58ms/step - loss: 0.0432 - accuracy: 0.9859 - val_loss: 0.2107 - val_accuracy: 0.9355\n",
      "Epoch 13/20\n",
      "990/990 [==============================] - 46s 46ms/step - loss: 0.0300 - accuracy: 0.9939 - val_loss: 0.1754 - val_accuracy: 0.9395\n",
      "Epoch 14/20\n",
      "990/990 [==============================] - 39s 40ms/step - loss: 0.1327 - accuracy: 0.9535 - val_loss: 0.2917 - val_accuracy: 0.9032\n",
      "Epoch 15/20\n",
      "990/990 [==============================] - 37s 38ms/step - loss: 0.1049 - accuracy: 0.9657 - val_loss: 0.2195 - val_accuracy: 0.9355\n",
      "Epoch 16/20\n",
      "990/990 [==============================] - 40s 40ms/step - loss: 0.0341 - accuracy: 0.9869 - val_loss: 0.1715 - val_accuracy: 0.9395\n",
      "Epoch 17/20\n",
      "990/990 [==============================] - 39s 40ms/step - loss: 0.0327 - accuracy: 0.9899 - val_loss: 0.1685 - val_accuracy: 0.9476\n",
      "Epoch 18/20\n",
      "990/990 [==============================] - 40s 41ms/step - loss: 0.0232 - accuracy: 0.9919 - val_loss: 0.1555 - val_accuracy: 0.9435\n",
      "Epoch 19/20\n",
      "990/990 [==============================] - 43s 43ms/step - loss: 0.0109 - accuracy: 0.9970 - val_loss: 0.2206 - val_accuracy: 0.9395\n",
      "Epoch 20/20\n",
      "990/990 [==============================] - 45s 45ms/step - loss: 0.0168 - accuracy: 0.9949 - val_loss: 0.2348 - val_accuracy: 0.9476\n"
     ]
    }
   ],
   "source": [
    "checkpoint = ModelCheckpoint('model-{epoch:03d}.model',monitor='val_loss',verbose=0,save_best_only=True,mode='auto')\n",
    "history=model.fit(train_data,train_target,epochs=20,callbacks=[checkpoint],validation_split=0.2)"
   ]
  },
  {
   "cell_type": "code",
   "execution_count": 20,
   "metadata": {},
   "outputs": [
    {
     "name": "stdout",
     "output_type": "stream",
     "text": [
      "Requirement already satisfied: matplotlib in c:\\users\\lenovo\\.conda\\envs\\tensorflow\\lib\\site-packages (3.3.0)\n",
      "Requirement already satisfied: numpy>=1.15 in c:\\users\\lenovo\\.conda\\envs\\tensorflow\\lib\\site-packages (from matplotlib) (1.18.5)\n",
      "Requirement already satisfied: kiwisolver>=1.0.1 in c:\\users\\lenovo\\.conda\\envs\\tensorflow\\lib\\site-packages (from matplotlib) (1.2.0)\n",
      "Requirement already satisfied: pillow>=6.2.0 in c:\\users\\lenovo\\.conda\\envs\\tensorflow\\lib\\site-packages (from matplotlib) (7.2.0)\n",
      "Requirement already satisfied: pyparsing!=2.0.4,!=2.1.2,!=2.1.6,>=2.0.3 in c:\\users\\lenovo\\.conda\\envs\\tensorflow\\lib\\site-packages (from matplotlib) (2.4.7)\n",
      "Requirement already satisfied: cycler>=0.10 in c:\\users\\lenovo\\.conda\\envs\\tensorflow\\lib\\site-packages (from matplotlib) (0.10.0)\n",
      "Requirement already satisfied: python-dateutil>=2.1 in c:\\users\\lenovo\\.conda\\envs\\tensorflow\\lib\\site-packages (from matplotlib) (2.7.5)\n",
      "Requirement already satisfied: six in c:\\users\\lenovo\\.conda\\envs\\tensorflow\\lib\\site-packages (from cycler>=0.10->matplotlib) (1.15.0)Note: you may need to restart the kernel to use updated packages.\n",
      "\n"
     ]
    }
   ],
   "source": [
    "pip install matplotlib"
   ]
  },
  {
   "cell_type": "code",
   "execution_count": 21,
   "metadata": {},
   "outputs": [
    {
     "data": {
      "image/png": "[encoded data removed]",
      "text/plain": [
       "<Figure size 432x288 with 1 Axes>"
      ]
     },
     "metadata": {
      "needs_background": "light"
     },
     "output_type": "display_data"
    }
   ],
   "source": [
    "from matplotlib import pyplot as plt\n",
    "\n",
    "plt.plot(history.history['loss'],'r',label='training loss')\n",
    "plt.plot(history.history['val_loss'],label='validation loss')\n",
    "plt.xlabel('# epochs')\n",
    "plt.ylabel('loss')\n",
    "plt.legend()\n",
    "plt.show()"
   ]
  },
  {
   "cell_type": "code",
   "execution_count": 22,
   "metadata": {},
   "outputs": [
    {
     "data": {
      "image/png": "[encoded data removed]",
      "text/plain": [
       "<Figure size 432x288 with 1 Axes>"
      ]
     },
     "metadata": {
      "needs_background": "light"
     },
     "output_type": "display_data"
    }
   ],
   "source": [
    "plt.plot(history.history['accuracy'],'r',label='training accuracy')\n",
    "plt.plot(history.history['val_accuracy'],label='validation accuracy')\n",
    "plt.xlabel('# epochs')\n",
    "plt.ylabel('loss')\n",
    "plt.legend()\n",
    "plt.show()"
   ]
  },
  {
   "cell_type": "code",
   "execution_count": 23,
   "metadata": {},
   "outputs": [
    {
     "name": "stdout",
     "output_type": "stream",
     "text": [
      "138/138 [==============================] - 2s 12ms/step\n",
      "[0.27499886335968715, 0.9202898740768433]\n"
     ]
    }
   ],
   "source": [
    "print(model.evaluate(test_data,test_target))"
   ]
  },
  {
   "cell_type": "code",
   "execution_count": 24,
   "metadata": {},
   "outputs": [],
   "source": [
    "from keras.models import load_model"
   ]
  },
  {
   "cell_type": "code",
   "execution_count": 25,
   "metadata": {},
   "outputs": [],
   "source": [
    "model = load_model('C:\\\\Users\\\\lenovo\\\\Dropbox\\\\My PC (LAPTOP-AH9L381P)\\\\Desktop\\\\resume\\\\model-017.model')\n",
    "\n",
    "face_clsfr=cv2.CascadeClassifier('C:\\\\Users\\\\lenovo\\\\Dropbox\\\\My PC (LAPTOP-AH9L381P)\\\\Desktop\\\\resume\\\\haarcascade_frontalface_default.xml')\n",
    "\n",
    "source=cv2.VideoCapture(2)\n",
    "\n",
    "labels_dict={0:'MASK',1:'NO MASK'}\n",
    "color_dict={0:(0,255,0),1:(0,0,255)}"
   ]
  },
  {
   "cell_type": "code",
   "execution_count": null,
   "metadata": {},
   "outputs": [],
   "source": [
    "while(True):\n",
    "    cap = cv2.VideoCapture(0)\n",
    "    ret,img=cap.read()\n",
    "    gray=cv2.cvtColor(img,cv2.COLOR_BGR2GRAY)\n",
    "    faces=face_clsfr.detectMultiScale(gray,1.3,5)  \n",
    "\n",
    "    for (x,y,w,h) in faces:\n",
    "    \n",
    "        face_img=gray[y:y+w,x:x+w]\n",
    "        resized=cv2.resize(face_img,(100,100))\n",
    "        normalized=resized/255.0\n",
    "        reshaped=np.reshape(normalized,(1,100,100,1))\n",
    "        result=model.predict(reshaped)\n",
    "\n",
    "        label=np.argmax(result,axis=1)[0]\n",
    "      \n",
    "        cv2.rectangle(img,(x,y),(x+w,y+h),color_dict[label],2)\n",
    "        cv2.rectangle(img,(x,y-40),(x+w,y),color_dict[label],-1)\n",
    "        cv2.putText(img, labels_dict[label], (x, y-10),cv2.FONT_HERSHEY_SIMPLEX,0.8,(255,255,255),2)\n",
    "        \n",
    "        \n",
    "    cv2.imshow('LIVE',img)\n",
    "    key=cv2.waitKey(1)\n",
    "    \n",
    "    if(key==27):\n",
    "        break\n",
    "        \n",
    "cv2.destroyAllWindows()\n",
    ".release()\n"
   ]
  },
  {
   "cell_type": "code",
   "execution_count": null,
   "metadata": {},
   "outputs": [],
   "source": [
    "\n",
    "\n"
   ]
  },
  {
   "cell_type": "code",
   "execution_count": null,
   "metadata": {},
   "outputs": [],
   "source": []
  }
 ],
 "metadata": {
  "kernelspec": {
   "display_name": "Python 3",
   "language": "python",
   "name": "python3"
  },
  "language_info": {
   "codemirror_mode": {
    "name": "ipython",
    "version": 3
   },
   "file_extension": ".py",
   "mimetype": "text/x-python",
   "name": "python",
   "nbconvert_exporter": "python",
   "pygments_lexer": "ipython3",
   "version": "3.7.6"
  }
 },
 "nbformat": 4,
 "nbformat_minor": 4
}
